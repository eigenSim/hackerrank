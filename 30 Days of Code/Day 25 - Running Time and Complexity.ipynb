{
 "cells": [
  {
   "cell_type": "code",
   "execution_count": null,
   "metadata": {
    "scrolled": true
   },
   "outputs": [],
   "source": [
    "m = int(input())\n",
    "\n",
    "a = []\n",
    "\n",
    "for i in range(1, m+1):\n",
    "    n = int(input())\n",
    "    \n",
    "    if n == 1:\n",
    "        print('Not prime')\n",
    "    \n",
    "    for i in range(1, n+1):\n",
    "        if n % i == 0:\n",
    "            a.append(i)\n",
    "        \n",
    "    if len(a) == 2:\n",
    "        print('Prime')\n",
    "            \n",
    "    elif len(a) >= 3:\n",
    "        print('Not prime')\n",
    "        \n",
    "    a = []"
   ]
  },
  {
   "cell_type": "code",
   "execution_count": null,
   "metadata": {},
   "outputs": [],
   "source": [
    "#references\n",
    "\n",
    "import math\n",
    "\n",
    "def check_prime(num):\n",
    "    if num == 1:\n",
    "        return \"Not prime\"\n",
    "    \n",
    "    sq = int(math.sqrt(num))\n",
    "    \n",
    "    for x in range(2, sq+1):\n",
    "        if num % x == 0:\n",
    "            return \"Not prime\"\n",
    "        \n",
    "    return \"Prime\""
   ]
  },
  {
   "cell_type": "code",
   "execution_count": null,
   "metadata": {},
   "outputs": [],
   "source": [
    "# references\n",
    "# 2 is prime\n",
    "\n",
    "import math\n",
    "\n",
    "m = int(input())\n",
    "\n",
    "for i in range(1, m+1):\n",
    "    \n",
    "    num = int(input())\n",
    "    sq = int(math.sqrt(num))\n",
    "    \n",
    "    if num == 1:\n",
    "        print(\"Not prime\")\n",
    "    \n",
    "    else:\n",
    "        for x in range(2, sq+1):\n",
    "            if num % x == 0:\n",
    "                print(\"Not prime\")\n",
    "                break\n",
    "            \n",
    "        else:\n",
    "            print(\"Prime\")"
   ]
  }
 ],
 "metadata": {
  "kernelspec": {
   "display_name": "Python 3",
   "language": "python",
   "name": "python3"
  },
  "language_info": {
   "codemirror_mode": {
    "name": "ipython",
    "version": 3
   },
   "file_extension": ".py",
   "mimetype": "text/x-python",
   "name": "python",
   "nbconvert_exporter": "python",
   "pygments_lexer": "ipython3",
   "version": "3.6.3"
  }
 },
 "nbformat": 4,
 "nbformat_minor": 2
}
