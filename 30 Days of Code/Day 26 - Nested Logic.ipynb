{
 "cells": [
  {
   "cell_type": "code",
   "execution_count": null,
   "metadata": {},
   "outputs": [],
   "source": [
    "# 서적 대여 후 예정일(일-월-연) 내에 반납 시 벌점=0\n",
    "# 반납 예정일 이후 반납 시\n",
    "# '월'을 넘기지 않았으면 벌점=연체일*15\n",
    "# '연'을 넘기지 않았으면 벌점=연체일*500\n",
    "# '연'을 넘었으면 무조건 벌점=10000"
   ]
  },
  {
   "cell_type": "code",
   "execution_count": 13,
   "metadata": {},
   "outputs": [
    {
     "name": "stdout",
     "output_type": "stream",
     "text": [
      "9 6 2015\n",
      "6 6 2015\n",
      "45\n"
     ]
    }
   ],
   "source": [
    "#references\n",
    "\n",
    "#actual date\n",
    "ad, am, ay = [int(x) for x in input().split(' ')] #string -> int\n",
    "\n",
    "#expected date\n",
    "ed, em, ey = [int(x) for x in input().split(' ')]\n",
    "\n",
    "if (ay, am, ad) <= (ey, em, ed):\n",
    "    print(0) #대여 후 반납예정일 내에 반납 시 벌점=0\n",
    "\n",
    "elif (ay, am) == (ey, em):\n",
    "    print(15 * (ad - ed)) # 반납 예정일 이후 반납 시 '월'을 넘기지 않았으면 벌점=연체일*15\n",
    "\n",
    "elif ay == ey:\n",
    "    print(500 * (am - em)) # 반납 예정일 이후 반납 시 '연'을 넘기지 않았으면 벌점=연체일*500\n",
    "\n",
    "else:\n",
    "    print(10000) # 반납 예정일 이후 반납 시 '연'을 넘었으면 벌점=10000"
   ]
  },
  {
   "cell_type": "code",
   "execution_count": 12,
   "metadata": {},
   "outputs": [
    {
     "name": "stdout",
     "output_type": "stream",
     "text": [
      "9 6 2015\n",
      "9 6 2015\n",
      "<class 'str'>\n"
     ]
    }
   ],
   "source": []
  }
 ],
 "metadata": {
  "kernelspec": {
   "display_name": "Python 3",
   "language": "python",
   "name": "python3"
  },
  "language_info": {
   "codemirror_mode": {
    "name": "ipython",
    "version": 3
   },
   "file_extension": ".py",
   "mimetype": "text/x-python",
   "name": "python",
   "nbconvert_exporter": "python",
   "pygments_lexer": "ipython3",
   "version": "3.6.3"
  }
 },
 "nbformat": 4,
 "nbformat_minor": 2
}
