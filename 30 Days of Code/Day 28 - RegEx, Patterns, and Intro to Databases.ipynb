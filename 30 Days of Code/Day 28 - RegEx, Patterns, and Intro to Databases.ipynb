{
 "cells": [
  {
   "cell_type": "raw",
   "metadata": {},
   "source": [
    "input\n",
    "\n",
    "6\n",
    "riya riya@gmail.com\n",
    "julia julia@julia.me\n",
    "julia sjulia@gmail.com\n",
    "julia julia@gmail.com\n",
    "samantha samantha@gmail.com\n",
    "tanya tanya@gmail.com"
   ]
  },
  {
   "cell_type": "raw",
   "metadata": {},
   "source": [
    "output\n",
    "\n",
    "julia\n",
    "julia\n",
    "riya\n",
    "samantha\n",
    "tanya"
   ]
  },
  {
   "cell_type": "code",
   "execution_count": null,
   "metadata": {},
   "outputs": [],
   "source": [
    "#!/bin/python3\n",
    "\n",
    "import sys\n",
    "import re\n",
    "\n",
    "f = []\n",
    "\n",
    "N = int(input().strip())\n",
    "for a0 in range(N):\n",
    "    firstName,email_ID = input().strip().split(' ')\n",
    "    firstName,email_ID = [str(firstName),str(email_ID)]\n",
    "        \n",
    "    e = re.search(r'@gmail.com', email_ID)\n",
    "    \n",
    "    if not e == None:\n",
    "        f.append(firstName)\n",
    "\n",
    "f.sort()\n",
    "        \n",
    "for i in range(0, len(f)):\n",
    "    print(str(f[i]))\n",
    "    "
   ]
  }
 ],
 "metadata": {
  "kernelspec": {
   "display_name": "Python 3",
   "language": "python",
   "name": "python3"
  },
  "language_info": {
   "codemirror_mode": {
    "name": "ipython",
    "version": 3
   },
   "file_extension": ".py",
   "mimetype": "text/x-python",
   "name": "python",
   "nbconvert_exporter": "python",
   "pygments_lexer": "ipython3",
   "version": "3.6.3"
  }
 },
 "nbformat": 4,
 "nbformat_minor": 2
}
