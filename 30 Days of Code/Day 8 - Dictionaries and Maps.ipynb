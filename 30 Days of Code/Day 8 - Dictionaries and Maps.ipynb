{
 "cells": [
  {
   "cell_type": "code",
   "execution_count": null,
   "metadata": {
    "collapsed": true
   },
   "outputs": [],
   "source": [
    "n = int(input())\n",
    "\n",
    "phone_book = dict(input().split() for _ in range(n))\n",
    "\n",
    "for n in range (0, n+1):\n",
    "    try:\n",
    "        name = input()\n",
    "        if name in phone_book:\n",
    "            print(name, '=', phone_book[name], sep = '')\n",
    "        else:\n",
    "            print('Not found')\n",
    "    except:\n",
    "        break\n"
   ]
  }
 ],
 "metadata": {
  "kernelspec": {
   "display_name": "Python 3",
   "language": "python",
   "name": "python3"
  },
  "language_info": {
   "codemirror_mode": {
    "name": "ipython",
    "version": 3
   },
   "file_extension": ".py",
   "mimetype": "text/x-python",
   "name": "python",
   "nbconvert_exporter": "python",
   "pygments_lexer": "ipython3",
   "version": "3.6.1"
  }
 },
 "nbformat": 4,
 "nbformat_minor": 2
}
