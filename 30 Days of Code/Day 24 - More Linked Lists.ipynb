{
 "cells": [
  {
   "cell_type": "code",
   "execution_count": null,
   "metadata": {},
   "outputs": [],
   "source": [
    "class Node:\n",
    "    def __init__(self,data):\n",
    "        self.data = data\n",
    "        self.next = None\n",
    "        \n",
    "class Solution: \n",
    "    def insert(self,head,data):\n",
    "            p = Node(data)           \n",
    "            if head==None:\n",
    "                head=p\n",
    "            elif head.next==None:\n",
    "                head.next=p\n",
    "            else:\n",
    "                start=head\n",
    "                while(start.next!=None):\n",
    "                    start=start.next\n",
    "                start.next=p\n",
    "            return head  \n",
    "    def display(self,head):\n",
    "        current = head\n",
    "        while current:\n",
    "            print(current.data,end=' ')\n",
    "            current = current.next\n",
    "            \n",
    "    def removeDuplicates(self,head):\n",
    "        \n",
    "        #Write your code here\n",
    "        \n",
    "        # references\n",
    "        \n",
    "        tmp = head\n",
    "        \n",
    "        while tmp:\n",
    "            if tmp.next and tmp.data == tmp.next.data:\n",
    "                tmp2 = tmp.next\n",
    "                tmp.next = tmp.next.next\n",
    "                del tmp2\n",
    "            else:\n",
    "                tmp = tmp.next\n",
    "        return head"
   ]
  },
  {
   "cell_type": "code",
   "execution_count": null,
   "metadata": {},
   "outputs": [],
   "source": [
    "#references\n",
    "    def removeDuplicates(self,head):\n",
    "        \n",
    "        current = head\n",
    "        li = [head.data]\n",
    "        \n",
    "        while current.next: # exists\n",
    "            if current.next.data in li:\n",
    "                # delete it and reset pointer\n",
    "                pointer = current.next.next\n",
    "                del current.next\n",
    "                current.next = pointer\n",
    "            else:\n",
    "                li.append(current.next.data)  \n",
    "                current = current.next\n",
    "                \n",
    "        return head"
   ]
  },
  {
   "cell_type": "code",
   "execution_count": null,
   "metadata": {},
   "outputs": [],
   "source": [
    "mylist= Solution()\n",
    "T=int(input())\n",
    "head=None\n",
    "for i in range(T):\n",
    "    data=int(input())\n",
    "    head=mylist.insert(head,data)    \n",
    "head=mylist.removeDuplicates(head)\n",
    "mylist.display(head); "
   ]
  }
 ],
 "metadata": {
  "kernelspec": {
   "display_name": "Python 3",
   "language": "python",
   "name": "python3"
  },
  "language_info": {
   "codemirror_mode": {
    "name": "ipython",
    "version": 3
   },
   "file_extension": ".py",
   "mimetype": "text/x-python",
   "name": "python",
   "nbconvert_exporter": "python",
   "pygments_lexer": "ipython3",
   "version": "3.6.3"
  }
 },
 "nbformat": 4,
 "nbformat_minor": 2
}
