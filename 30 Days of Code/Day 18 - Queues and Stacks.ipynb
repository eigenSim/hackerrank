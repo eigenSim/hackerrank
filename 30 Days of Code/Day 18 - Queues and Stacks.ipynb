{
 "cells": [
  {
   "cell_type": "markdown",
   "metadata": {},
   "source": [
    "- references"
   ]
  },
  {
   "cell_type": "code",
   "execution_count": null,
   "metadata": {},
   "outputs": [],
   "source": [
    "import sys\n",
    "\n",
    "    \n",
    "class Solution:\n",
    "      def __init__(self):\n",
    "            self.mystack = list()\n",
    "            self.myqueue = list()\n",
    "            return None\n",
    "    \n",
    "    def pushCharacter(self, char):\n",
    "        self.mystack.append(char)\n",
    "        \n",
    "    def popCharacter(self):\n",
    "        return(self.mystack.pop())\n",
    "    \n",
    "    def enqueueCharacter(self, char):\n",
    "        self.myqueue.append(char)\n",
    "        \n",
    "    def dequeueCharacter(self):\n",
    "        return(self.myqueue.pop(0))    "
   ]
  },
  {
   "cell_type": "code",
   "execution_count": null,
   "metadata": {},
   "outputs": [],
   "source": [
    "class Solution:\n",
    "    \n",
    "    def __init__(self):\n",
    "        self.qitems=[]\n",
    "        self.sitems=[]\n",
    "        self.length=0\n",
    "\n",
    "    def enqueueCharacter(self, char):\n",
    "        self.qitems.append(char)\n",
    "\n",
    "    def dequeueCharacter(self):\n",
    "        letter=self.qitems[0]\n",
    "        del self.qitems[0]\n",
    "        return letter\n",
    "    \n",
    "    def pushCharacter(self,char):\n",
    "        self.sitems.append(char)\n",
    "\n",
    "    def popCharacter(self):\n",
    "        letter=self.sitems[-1]\n",
    "        del self.sitems[-1]\n",
    "        return letter"
   ]
  },
  {
   "cell_type": "code",
   "execution_count": null,
   "metadata": {},
   "outputs": [],
   "source": [
    "class Solution:\n",
    "    def __init__(self):\n",
    "        self.dequeue = []\n",
    "    \n",
    "    def pushCharacter(self, item):\n",
    "        self.dequeue.append(item)\n",
    "        \n",
    "    def enqueueCharacter(self, item):\n",
    "        self.dequeue.append(item)\n",
    "        \n",
    "    def popCharacter(self):\n",
    "        return self.dequeue.pop()\n",
    "    \n",
    "    def dequeueCharacter(self):\n",
    "        return self.dequeue.pop(0)"
   ]
  },
  {
   "cell_type": "code",
   "execution_count": null,
   "metadata": {},
   "outputs": [],
   "source": [
    "from collections import deque\n",
    "\n",
    "class Solution:\n",
    "    def __init__(self):\n",
    "        self.stack = []\n",
    "        self.queue = deque([])\n",
    "        \n",
    "    def pushCharacter(self, ch):\n",
    "        self.stack.append(ch)\n",
    "    \n",
    "    def popCharacter(self):\n",
    "        return self.stack.pop()\n",
    "   \n",
    "    def enqueueCharacter(self, ch):\n",
    "        self.queue.append(ch)\n",
    "        \n",
    "    def dequeueCharacter(self):\n",
    "        return self.queue.popleft()"
   ]
  },
  {
   "cell_type": "code",
   "execution_count": null,
   "metadata": {},
   "outputs": [],
   "source": [
    "from collections import deque\n",
    "\n",
    "class Solution:\n",
    "    def __init__(self):\n",
    "        self.stck = []\n",
    "        self.q = deque([])\n",
    "    \n",
    "    def pushCharacter(self, c):\n",
    "        self.stck.append(c)\n",
    "    \n",
    "    def enqueueCharacter(self, c):\n",
    "        self.q.append(c)\n",
    "    \n",
    "    def popCharacter(self):\n",
    "        return self.stck.pop()\n",
    "    \n",
    "    def dequeueCharacter(self):\n",
    "        return self.q.popleft()"
   ]
  },
  {
   "cell_type": "code",
   "execution_count": null,
   "metadata": {},
   "outputs": [],
   "source": [
    "# read the string s\n",
    "\n",
    "s = input()\n",
    "\n",
    "#Create the Solution class object\n",
    "\n",
    "obj = Solution()   \n",
    "\n",
    "l = len(s)\n",
    "\n",
    "# push/enqueue all the characters of string s to stack\n",
    "\n",
    "for i in range(l):\n",
    "    obj.pushCharacter(s[i])\n",
    "    obj.enqueueCharacter(s[i])\n",
    "    \n",
    "isPalindrome = True\n",
    "'''\n",
    "pop the top character from stack\n",
    "dequeue the first character from queue\n",
    "compare both the characters\n",
    "''' \n",
    "for i in range(l // 2):\n",
    "    if obj.popCharacter() != obj.dequeueCharacter():\n",
    "        isPalindrome = False\n",
    "        break\n",
    "\n",
    "        #finally print whether string s is palindrome or not.\n",
    "\n",
    "if isPalindrome:\n",
    "    print(\"The word, \"+s+\", is a palindrome.\")\n",
    "else:\n",
    "    print(\"The word, \"+s+\", is not a palindrome.\")    "
   ]
  }
 ],
 "metadata": {
  "kernelspec": {
   "display_name": "Python 3",
   "language": "python",
   "name": "python3"
  },
  "language_info": {
   "codemirror_mode": {
    "name": "ipython",
    "version": 3
   },
   "file_extension": ".py",
   "mimetype": "text/x-python",
   "name": "python",
   "nbconvert_exporter": "python",
   "pygments_lexer": "ipython3",
   "version": "3.6.3"
  }
 },
 "nbformat": 4,
 "nbformat_minor": 2
}
