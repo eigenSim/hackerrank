{
 "cells": [
  {
   "cell_type": "code",
   "execution_count": null,
   "metadata": {
    "collapsed": true
   },
   "outputs": [],
   "source": [
    "class re_sort:\n",
    "    def __init__(self, word):\n",
    "        self.word = word\n",
    "        \n",
    "        l1 = []\n",
    "        l2 = []\n",
    "               \n",
    "        for s in range(len(self.word)):\n",
    "            if s % 2 == 0:\n",
    "                l1.append(self.word[s])\n",
    "            else:\n",
    "                l2.append(self.word[s])\n",
    "        \n",
    "        s1 = ''.join(l1)\n",
    "        s2 = ''.join(l2)\n",
    "        \n",
    "        print(s1, s2)\n",
    "\n",
    "t = int(input())        \n",
    "for i in range(0, t):\n",
    "    test = input()\n",
    "    w = re_sort(test)"
   ]
  }
 ],
 "metadata": {
  "kernelspec": {
   "display_name": "Python 3",
   "language": "python",
   "name": "python3"
  },
  "language_info": {
   "codemirror_mode": {
    "name": "ipython",
    "version": 3
   },
   "file_extension": ".py",
   "mimetype": "text/x-python",
   "name": "python",
   "nbconvert_exporter": "python",
   "pygments_lexer": "ipython3",
   "version": "3.6.1"
  }
 },
 "nbformat": 4,
 "nbformat_minor": 2
}
