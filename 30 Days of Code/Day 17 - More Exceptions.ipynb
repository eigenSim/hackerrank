{
 "cells": [
  {
   "cell_type": "markdown",
   "metadata": {},
   "source": [
    "- references"
   ]
  },
  {
   "cell_type": "code",
   "execution_count": null,
   "metadata": {},
   "outputs": [],
   "source": [
    "class e(Exception):\n",
    "    def __init__(self, msg):\n",
    "        self.msg = msg\n",
    "    def __str__(self):\n",
    "        return self.msg\n",
    "\n",
    "class Calculator:\n",
    "    def power(self, n, p):\n",
    "        if  n < 0 or p < 0:\n",
    "            raise e(\"n and p should be non-negative\")\n",
    "        else:\n",
    "            return n ** p\n",
    "        \n",
    "# error : name 'e' is not defined"
   ]
  },
  {
   "cell_type": "code",
   "execution_count": null,
   "metadata": {},
   "outputs": [],
   "source": [
    "class e(Exception):\n",
    "    \"n and p should be non-negative\"\n",
    "\n",
    "class Calculator():\n",
    "    def power(self, n, p):\n",
    "        try:\n",
    "            if n | p < 0:\n",
    "                raise e\n",
    "            else:\n",
    "                return n ** p\n",
    "        except e:\n",
    "            return \"n and p should be non-negative\""
   ]
  },
  {
   "cell_type": "code",
   "execution_count": null,
   "metadata": {},
   "outputs": [],
   "source": [
    "class Calculator:\n",
    "    def power(self, n, p):\n",
    "        if n < 0 or p < 0:\n",
    "            raise Exception(\"n and p should be non-negative\")\n",
    "        else:\n",
    "            return n ** p"
   ]
  },
  {
   "cell_type": "code",
   "execution_count": null,
   "metadata": {},
   "outputs": [],
   "source": [
    "class Calculator:\n",
    "    def power(self, n, p):\n",
    "        if n < 0 or p < 0:\n",
    "            raise ValueError('n and p should be non-negative')\n",
    "            \n",
    "        return n ** p"
   ]
  },
  {
   "cell_type": "raw",
   "metadata": {},
   "source": []
  },
  {
   "cell_type": "code",
   "execution_count": null,
   "metadata": {},
   "outputs": [],
   "source": [
    "myCalculator=Calculator()\n",
    "T=int(input())\n",
    "for i in range(T):\n",
    "    n,p = map(int, input().split())\n",
    "    try:\n",
    "        ans=myCalculator.power(n,p)\n",
    "        print(ans)\n",
    "    except Exception as e:\n",
    "        print(e)   "
   ]
  }
 ],
 "metadata": {
  "kernelspec": {
   "display_name": "Python 3",
   "language": "python",
   "name": "python3"
  },
  "language_info": {
   "codemirror_mode": {
    "name": "ipython",
    "version": 3
   },
   "file_extension": ".py",
   "mimetype": "text/x-python",
   "name": "python",
   "nbconvert_exporter": "python",
   "pygments_lexer": "ipython3",
   "version": "3.6.3"
  }
 },
 "nbformat": 4,
 "nbformat_minor": 2
}
