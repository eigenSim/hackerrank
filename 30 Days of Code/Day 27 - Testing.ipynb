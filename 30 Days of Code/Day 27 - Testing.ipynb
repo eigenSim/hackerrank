{
 "cells": [
  {
   "cell_type": "code",
   "execution_count": null,
   "metadata": {},
   "outputs": [],
   "source": [
    "# 수학 교수님은 수학 강의 취소 여부 고민 중\n",
    "# 강의 시작 시 학생수가 k명보다 적으면 강의 취소\n",
    "\n",
    "# input은 아래와 같다\n",
    "# 첫 줄 t = 강의 수\n",
    "# 다음 줄에 있는 2개의 숫자는 n, k\n",
    "# n = 강의 참석 예정 학생 수\n",
    "# k = 강의 취소 여부 기준 학생 수\n",
    "# 다음 줄에 있는 숫자들은 도착하는 학생들의 시간 분포\n",
    "# 시간 분포에서 정시 이전에 도착하면 음수, 정시에 도착하면 0(강의 참석하는 것으로 간주), 지각하면 양수(지각 시 참석하지 않는 것으로 간주)\n",
    "\n",
    "# output은 아래와 같다\n",
    "# 강의 취소는 YES (참석 학생 수가 k 이상일 때)\n",
    "# 강의 진행은 NO (참석 학생 수가 k 미만일 때)\n"
   ]
  },
  {
   "cell_type": "code",
   "execution_count": null,
   "metadata": {},
   "outputs": [],
   "source": [
    "# references\n",
    "\n",
    "# 왜 이 코드로 point를 얻을 수 있는지는 작성자도 모름\n",
    "\n",
    "import random\n",
    "\n",
    "def generate_test_case(n):\n",
    "    k = random.randint(1, n)    \n",
    "    a = [random.randint(-1e3, 1e3) for _ in range(n)]\n",
    "    \n",
    "    a[0] = 0\n",
    "    a[1] = abs(a[1])\n",
    "    a[2] = - abs(a[2])\n",
    "    \n",
    "    random.shuffle(a)\n",
    "    \n",
    "    print(\"{} {}\".format(n, k))\n",
    "    print(\" \".join(map(str, a)))\n",
    "    \n",
    "\n",
    "T = 5\n",
    "n_list = random.sample(range(3, 201), T)\n",
    "\n",
    "print(T)\n",
    "\n",
    "for n in n_list:\n",
    "    generate_test_case(n)"
   ]
  },
  {
   "cell_type": "code",
   "execution_count": 42,
   "metadata": {
    "scrolled": false
   },
   "outputs": [
    {
     "name": "stdout",
     "output_type": "stream",
     "text": [
      "1\n",
      "Please choose number of quota and the minimum attendance\n",
      "5 2\n",
      "0 -1 2 1 4\n",
      "No\n"
     ]
    }
   ],
   "source": [
    "# 이 코드는 runtime error\n",
    "\n",
    "# 개인적인 개선 사항으로는\n",
    "# int로 입력해야 하고\n",
    "# 음수도 int\n",
    "# float, str로 입력 시 다시 입력하도록 해야\n",
    "\n",
    "t = int(input())\n",
    "\n",
    "for t_ in range(1, t+1):\n",
    "    print('Please choose number of quota and the minimum attendance')\n",
    "    n, k = [int(m) for m in (input().split(' '))]\n",
    "    \n",
    "    while not n >= k:\n",
    "        print('Attendance can not exceed quota')\n",
    "        n, k = [int(m) for m in (input().split(' '))]\n",
    "        \n",
    "    s = input().split(' ') #이 상태에서 type = list \n",
    "    \n",
    "    while not len(s) == n:\n",
    "        print('Please input equal number of quota')\n",
    "        s = input().split(' ')\n",
    "        \n",
    "    ss = [s_ for s_ in s if int(s_) <= 0] #list 형태로 저장해야 에러 없음\n",
    "            \n",
    "    if len(ss) >= k:\n",
    "        print('No')\n",
    "        \n",
    "    elif len(ss) < k:\n",
    "        print('Yes')"
   ]
  },
  {
   "cell_type": "code",
   "execution_count": null,
   "metadata": {},
   "outputs": [],
   "source": [
    "for s_ in range(0, len(s)-1):\n",
    "        if int(s[s_]) >= 1:\n",
    "            del s[s_]\n",
    "            \n",
    "# 이 코드를 했었으나 잘못된 것\n",
    "# del을 하여 값을 지움으로써 s 변수가 변하므로 s range가 변화한다"
   ]
  }
 ],
 "metadata": {
  "kernelspec": {
   "display_name": "Python 3",
   "language": "python",
   "name": "python3"
  },
  "language_info": {
   "codemirror_mode": {
    "name": "ipython",
    "version": 3
   },
   "file_extension": ".py",
   "mimetype": "text/x-python",
   "name": "python",
   "nbconvert_exporter": "python",
   "pygments_lexer": "ipython3",
   "version": "3.6.3"
  }
 },
 "nbformat": 4,
 "nbformat_minor": 2
}
