{
 "cells": [
  {
   "cell_type": "code",
   "execution_count": null,
   "metadata": {},
   "outputs": [],
   "source": [
    "#references\n",
    "\n",
    "T = int(input().strip())\n",
    "for _ in range(T):\n",
    "    n , k = map(int , input().split())\n",
    "    print(k-1 if ((k-1) | k) <= n else k-2)"
   ]
  },
  {
   "cell_type": "code",
   "execution_count": null,
   "metadata": {},
   "outputs": [],
   "source": [
    "# 이진수 연산에 대하여\n",
    "# 이진수 연산자 = &, |, ^, ~\n",
    "\n",
    "\n",
    "#!/bin/python3\n",
    "\n",
    "import sys\n",
    "\n",
    "\n",
    "t = int(input().strip())\n",
    "for a0 in range(t):\n",
    "    n,k = input().strip().split(' ')\n",
    "    n,k = [int(n),int(k)]\n",
    "    \n",
    "    print(k-1 if ((k-1) | k) <= n else k-2)\n",
    "    "
   ]
  }
 ],
 "metadata": {
  "kernelspec": {
   "display_name": "Python 3",
   "language": "python",
   "name": "python3"
  },
  "language_info": {
   "codemirror_mode": {
    "name": "ipython",
    "version": 3
   },
   "file_extension": ".py",
   "mimetype": "text/x-python",
   "name": "python",
   "nbconvert_exporter": "python",
   "pygments_lexer": "ipython3",
   "version": "3.6.3"
  }
 },
 "nbformat": 4,
 "nbformat_minor": 2
}
