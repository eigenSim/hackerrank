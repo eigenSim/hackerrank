{
 "cells": [
  {
   "cell_type": "code",
   "execution_count": null,
   "metadata": {
    "collapsed": true
   },
   "outputs": [],
   "source": [
    "# input = 12\n",
    "# input = 4.0\n",
    "# input = is the best place to learn and practice coding!\n",
    "\n",
    "\n",
    "# Declare second integer, double, and String variables.\n",
    "ii = int(input())\n",
    "dd = float(input())\n",
    "ss = str(input())\n",
    "\n",
    "# Read and save an integer, double, and String to your variables.\n",
    "print(i + ii)\n",
    "print(d + dd)\n",
    "print(s + ss)\n",
    "\n",
    "# Print the sum of both integer variables on a new line.\n",
    "\n",
    "# Print the sum of the double variables on a new line.\n",
    "\n",
    "# Concatenate and print the String variables on a new line\n",
    "# The 's' variable above should be printed first."
   ]
  }
 ],
 "metadata": {
  "kernelspec": {
   "display_name": "Python 3",
   "language": "python",
   "name": "python3"
  },
  "language_info": {
   "codemirror_mode": {
    "name": "ipython",
    "version": 3
   },
   "file_extension": ".py",
   "mimetype": "text/x-python",
   "name": "python",
   "nbconvert_exporter": "python",
   "pygments_lexer": "ipython3",
   "version": "3.6.1"
  }
 },
 "nbformat": 4,
 "nbformat_minor": 2
}
