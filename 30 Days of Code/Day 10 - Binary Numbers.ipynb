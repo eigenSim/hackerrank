{
 "cells": [
  {
   "cell_type": "code",
   "execution_count": 2,
   "metadata": {},
   "outputs": [
    {
     "name": "stdout",
     "output_type": "stream",
     "text": [
      "13\n",
      "2\n"
     ]
    }
   ],
   "source": [
    "#reference\n",
    "\n",
    "#!/bin/python3\n",
    "\n",
    "import sys\n",
    "import math\n",
    "\n",
    "n = int(input().strip())\n",
    "\n",
    "# create an empty list to hold our binary numbers\n",
    "binary_list = []\n",
    "\n",
    "# fill the list with 1s and 0s from left to right using Base-Conversion Method (remainders of dividing by 2)\n",
    "while True:\n",
    "    if n > 1:\n",
    "        if n % 2 == 0:\n",
    "            binary_list.append(0)\n",
    "        elif n % 2 != 0:\n",
    "            binary_list.append(1)\n",
    "    elif n == 1:\n",
    "        binary_list.append(1)\n",
    "        break\n",
    "    elif n == 0:\n",
    "        binary_list.append(0)\n",
    "        break\n",
    "    n = math.floor(n / 2)\n",
    "\n",
    "# set a counter and a max variable\n",
    "consec = 0\n",
    "maximum = 0\n",
    "\n",
    "# iterate through our list of 1s and 0s to find our max consecutive set of 1s\n",
    "for i in binary_list:\n",
    "    if i == 1:\n",
    "        consec += 1\n",
    "        if maximum <= consec:\n",
    "            maximum = consec\n",
    "        else:\n",
    "            pass\n",
    "    elif i == 0:\n",
    "        consec = 0\n",
    "        \n",
    "print(maximum)"
   ]
  },
  {
   "cell_type": "code",
   "execution_count": 4,
   "metadata": {
    "scrolled": true
   },
   "outputs": [
    {
     "name": "stdout",
     "output_type": "stream",
     "text": [
      "13\n",
      "2\n"
     ]
    }
   ],
   "source": [
    "#reference\n",
    "\n",
    "def func(num):\n",
    "    return num[2:]\n",
    "    \n",
    "n = int(input().strip())\n",
    "a = max(func(bin(n)).split('0')).count('1')\n",
    "print(a)"
   ]
  },
  {
   "cell_type": "code",
   "execution_count": 6,
   "metadata": {},
   "outputs": [
    {
     "name": "stdout",
     "output_type": "stream",
     "text": [
      "13\n",
      "2\n"
     ]
    }
   ],
   "source": [
    "#reference\n",
    "\n",
    "print(len(max(bin(int(input().strip()))[2:].split('0'))))"
   ]
  },
  {
   "cell_type": "code",
   "execution_count": null,
   "metadata": {
    "collapsed": true
   },
   "outputs": [],
   "source": [
    "def func(n):\n",
    "    b = bin(n)\n",
    "    bb = b[2:]\n",
    "    bs = bb.split('0') #split은 str으로 나눔\n",
    "    mbs = max(bs) #max는 iterable로 반복 가능한 자료형을 입력받아 그 최대값을 리턴\n",
    "    count_ones = mbs.count('1') #str 형태에서 카운트\n",
    "    return count_ones\n",
    "\n",
    "func(n = int(input().strip()))"
   ]
  }
 ],
 "metadata": {
  "kernelspec": {
   "display_name": "Python 3",
   "language": "python",
   "name": "python3"
  },
  "language_info": {
   "codemirror_mode": {
    "name": "ipython",
    "version": 3
   },
   "file_extension": ".py",
   "mimetype": "text/x-python",
   "name": "python",
   "nbconvert_exporter": "python",
   "pygments_lexer": "ipython3",
   "version": "3.6.1"
  }
 },
 "nbformat": 4,
 "nbformat_minor": 2
}
