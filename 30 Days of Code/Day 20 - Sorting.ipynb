{
 "cells": [
  {
   "cell_type": "markdown",
   "metadata": {},
   "source": [
    "- references"
   ]
  },
  {
   "cell_type": "code",
   "execution_count": null,
   "metadata": {
    "scrolled": true
   },
   "outputs": [],
   "source": [
    "#!/bin/python3\n",
    "\n",
    "import sys\n",
    "\n",
    "n = int(input().strip())\n",
    "a = list(map(int, input().strip().split(' ')))\n",
    "\n",
    "# Write Your Code Here\n",
    "\n"
   ]
  },
  {
   "cell_type": "code",
   "execution_count": null,
   "metadata": {},
   "outputs": [],
   "source": [
    "count=0\n",
    "\n",
    "for i in range(n):\n",
    "    j=0\n",
    "    while j<n-1:\n",
    "        if a[j]>a[j+1]:\n",
    "            a[j],a[j+1]=a[j+1],a[j]\n",
    "            count+=1\n",
    "        j+=1\n",
    "print('Array is sorted in %d swaps.'%count)\n",
    "print('First Element: %d'%a[0])\n",
    "print('Last Element: %d'%a[-1])"
   ]
  },
  {
   "cell_type": "code",
   "execution_count": null,
   "metadata": {},
   "outputs": [],
   "source": [
    "def bubble(arr):\n",
    "    count_swap = 0\n",
    "    for num in range(len(arr)-1, 0, -1):\n",
    "        for i in range(num):\n",
    "            if arr[i] > arr[i+1]:\n",
    "                arr[i], arr[i+1] = arr[i+1], arr[i]\n",
    "                count_swap +=1\n",
    "    return count_swap\n",
    "\n",
    "print(\"Array is sorted in {} swaps.\".format(bubble(a)))\n",
    "print(\"First Element: {}\".format(a[0]))\n",
    "print(\"Last Element: {}\".format(a[-1]))"
   ]
  },
  {
   "cell_type": "code",
   "execution_count": null,
   "metadata": {},
   "outputs": [],
   "source": [
    "#wrong answer\n",
    "#why?\n",
    "\n",
    "b = sorted(a)\n",
    "\n",
    "if b == a:\n",
    "    print('Array is sorted in 0 swaps.')\n",
    "    print('First Element: ' + str(min(a)))\n",
    "    print('Last Element: ' + str(max(a)))\n",
    "\n",
    "elif (b[0] == a[0] and b[1] != a[1]) or (b[2] == a[2] and b[1] != a[1]):\n",
    "    print('Array is sorted in 1 swaps.')\n",
    "    print('First Element: ' + str(min(a)))\n",
    "    print('Last Element: ' + str(max(a)))\n",
    "\n",
    "elif (b[1] == a[1] and b[0] != a[0]):\n",
    "    print('Array is sorted in 3 swaps.')\n",
    "    print('First Element: ' + str(min(a)))\n",
    "    print('Last Element: ' + str(max(a)))\n",
    "    \n",
    "else:\n",
    "    print('Array is sorted in 2 swaps.')\n",
    "    print('First Element: ' + str(min(a)))\n",
    "    print('Last Element: ' + str(max(a)))\n"
   ]
  }
 ],
 "metadata": {
  "kernelspec": {
   "display_name": "Python 3",
   "language": "python",
   "name": "python3"
  },
  "language_info": {
   "codemirror_mode": {
    "name": "ipython",
    "version": 3
   },
   "file_extension": ".py",
   "mimetype": "text/x-python",
   "name": "python",
   "nbconvert_exporter": "python",
   "pygments_lexer": "ipython3",
   "version": "3.6.3"
  }
 },
 "nbformat": 4,
 "nbformat_minor": 2
}
